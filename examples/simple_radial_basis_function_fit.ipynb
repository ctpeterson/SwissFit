{
 "cells": [
  {
   "cell_type": "markdown",
   "id": "fc421b26-2ef0-4f62-b0b1-29ca32ccddec",
   "metadata": {},
   "source": [
    "Let's try and interpolate over the sine function from `examples/simple_fit.ipynb` with a radial basis function network (RBFN). The sine function is\n",
    "$$f(x) = a\\sin(bx),$$\n",
    "with $a=2.0$ and $b=0.5$. First, let's import everything we need."
   ]
  },
  {
   "cell_type": "code",
   "execution_count": 1,
   "id": "92218eaa-ee95-4d86-9bda-a9b5bd5303b6",
   "metadata": {},
   "outputs": [],
   "source": [
    "\"\"\" SwissFit imports \"\"\"\n",
    "from swissfit import fit # SwissFit fitter\n",
    "from swissfit.optimizers import scipy_basin_hopping # Basin hopping global optimizer\n",
    "from swissfit.optimizers import scipy_least_squares # Trust region reflective local optimizer\n",
    "from swissfit.machine_learning import radial_basis # Module for radial basis function network\n",
    "\n",
    "\"\"\" Other imports \"\"\"\n",
    "import gvar as gvar # Peter Lepage's GVar library\n",
    "import numpy as np # NumPy"
   ]
  },
  {
   "cell_type": "markdown",
   "id": "bb8c5d75-a71a-4ad6-b277-d5983707eb4e",
   "metadata": {},
   "source": [
    "So that we have something to fit to, let's create an artificial dataset. We do so in the next block."
   ]
  },
  {
   "cell_type": "code",
   "execution_count": 2,
   "id": "1b115199-5635-4492-bd64-d49f9bbd759d",
   "metadata": {},
   "outputs": [],
   "source": [
    "# Parameters of the sine function & the error\n",
    "a, b, error = 2.0, 0.5, 0.1\n",
    "\n",
    "# Actual parameters of the sine function\n",
    "real_fit_parameters = {'c': [a, b]}\n",
    "\n",
    "# Real dataset\n",
    "np.random.seed(0) # Seed random number generator\n",
    "data = {} # Dictionary to hold data\n",
    "\n",
    "# Input data\n",
    "data['x'] = np.linspace(0., 2. * np.pi / b, 20)\n",
    "\n",
    "# Output data\n",
    "data['y'] = [\n",
    "    gvar.gvar(\n",
    "        np.random.normal(a * np.sin(b * xx), error), # Random mean\n",
    "        error # Error on mean\n",
    "    )\n",
    "    for xx in data['x']\n",
    "]"
   ]
  },
  {
   "cell_type": "markdown",
   "id": "13217fcd-8d82-4fc0-aade-65b5a375add7",
   "metadata": {},
   "source": [
    "Next, let's create a radial basis function network. We do so by first specifying the topology of the RBFN. The following RBFN will have two nodes in its hidden layer. "
   ]
  },
  {
   "cell_type": "code",
   "execution_count": 3,
   "id": "2adbf80d-f04c-44b3-830d-6335d0c5059b",
   "metadata": {},
   "outputs": [],
   "source": [
    "network_topology = {\n",
    "    'lyr1': { # Hidden layer\n",
    "        'in': 1, 'out': 2, # Dimension of input & output\n",
    "        'activation': 'exp', # Exponential activation\n",
    "    },\n",
    "    'lyr2': { # Output layer\n",
    "        'in': 2, 'out': 1,\n",
    "        'activation': 'linear' # Linear activation\n",
    "    }\n",
    "}"
   ]
  },
  {
   "cell_type": "markdown",
   "id": "fa4b6b4c-95b5-49cc-909b-b30c87741bea",
   "metadata": {},
   "source": [
    "In `SwissFit`, we create a RBFN by passing the above dictionary to a `RadialBasisFunctionNeuralNetwork` object constructor as follows."
   ]
  },
  {
   "cell_type": "code",
   "execution_count": 4,
   "id": "0efc7bc3-3ab5-420e-b0dc-5c6cb7c1ec65",
   "metadata": {},
   "outputs": [],
   "source": [
    "# Create radial basis function network\n",
    "neural_network = radial_basis.RadialBasisNeuralNetwork(network_topology)\n",
    "\n",
    "# Initialize radial basis function network parameters\n",
    "p0 = neural_network.initialize_parameters(initialization = 'zero', p0 = {})"
   ]
  },
  {
   "cell_type": "markdown",
   "id": "4f8d8a49-43ba-40f1-a31f-6265fdfbb220",
   "metadata": {},
   "source": [
    "That's it! Now let's define our fit function using the instance of the `RadialBasisFunctioNeuralNetwork` class that we just created."
   ]
  },
  {
   "cell_type": "code",
   "execution_count": 5,
   "id": "331dc71e-5e05-4ed5-abaa-8c0b094a2d3c",
   "metadata": {},
   "outputs": [],
   "source": [
    "def fit_fcn(x, p):\n",
    "    return np.ravel(neural_network.out(x, p))"
   ]
  },
  {
   "cell_type": "markdown",
   "id": "30377981-8d58-41c5-9b64-1ee768fbce42",
   "metadata": {},
   "source": [
    "Now that we have our fit function, let's go ahead and fit. Because the loss landscape is much more complicated than it is in `examples/simple_fit.ipynb`, we will use a global optimizer. Everything else is exactly the same. "
   ]
  },
  {
   "cell_type": "code",
   "execution_count": 6,
   "id": "b271d134-7498-4fff-b703-f0e93ab02f58",
   "metadata": {},
   "outputs": [],
   "source": [
    "# Basin hopping parameters\n",
    "niter_success = 200 # Number of iterations with same best fit parameters for basin hopping to \"converge\"\n",
    "niter = 10000 # Upper bound on total number of basin hopping iterations\n",
    "T = 1. # Temperature hyperparameter for basin hopping\n",
    "\n",
    "# Create SwissFit fit object\n",
    "fitter = fit.SwissFit(\n",
    "    udata = data, # Fit data; \"data = data\" is also acceptable - \"udata\" means \"uncorrelated\"\n",
    "    p0 = p0, # Starting values for parameters,\n",
    "    fit_fcn = fit_fcn, # Fit function\n",
    ")\n",
    "\n",
    "# Create trust region reflective local optimizer from SciPy - fitter will save reference to local_optimizer for basin hopping\n",
    "local_optimizer = scipy_least_squares.SciPyLeastSquares(fitter = fitter)\n",
    "\n",
    "# Basin hopping global optimizer object instantiation\n",
    "global_optimizer = scipy_basin_hopping.BasinHopping(\n",
    "    fitter = fitter, # Fit function is the \"calculate_residual\" method of fitter object\n",
    "    optimizer_arguments = {\n",
    "        'niter_success': niter_success,\n",
    "        'niter': niter,\n",
    "        'T': T\n",
    "    }\n",
    ")"
   ]
  },
  {
   "cell_type": "markdown",
   "id": "4ebbea85-cfc6-4a3c-8568-dc60c05701ef",
   "metadata": {},
   "source": [
    "Let's fit!"
   ]
  },
  {
   "cell_type": "code",
   "execution_count": 11,
   "id": "cd9dacb2-f77a-4f19-8639-2a680937868f",
   "metadata": {},
   "outputs": [
    {
     "name": "stdout",
     "output_type": "stream",
     "text": [
      "\n",
      "SwissFit: 🧀\n",
      "   chi2/dof [dof] = 2.06 [13]   Q = 0.01   (Bayes) \n",
      "   chi2/dof [dof] = 2.06 [13]   Q = 0.01   (freq.) \n",
      "   AIC [k] = 40.78 [7]   logML = -1.626*\n",
      "\n",
      "Parameters*:\n",
      "     lyr1.center\n",
      "             1                  9.357(70)   [n/a]\n",
      "             2                  3.124(64)   [n/a]\n",
      "     lyr1.bandwidth\n",
      "             1                 -0.186(28)   [n/a]\n",
      "             2                  0.169(23)   [n/a]\n",
      "     lyr2.weight\n",
      "             1                  -2.01(17)   [n/a]\n",
      "             2                   2.18(17)   [n/a]\n",
      "     lyr2.bias\n",
      "             1                  -0.03(17)   [n/a]\n",
      "\n",
      "Estimator:\n",
      "   algorithm = SciPy basin hopping\n",
      "   minimization_failures = 5\n",
      "   nfev = 13464\n",
      "   njev = 11988\n",
      "   fun = 13.39159977365442\n",
      "   message = ['success condition satisfied']\n",
      "   nit = 362\n",
      "   success = True\n",
      "\n",
      "*Laplace approximation\n",
      "\n"
     ]
    }
   ],
   "source": [
    "# Do fit\n",
    "fitter(global_optimizer)\n",
    "\n",
    "# Print result of fit\n",
    "print(fitter)\n",
    "\n",
    "# Save fit parameters\n",
    "fit_parameters = fitter.p"
   ]
  },
  {
   "cell_type": "markdown",
   "id": "055580d6-da1c-47c4-bdd1-3f8c6c53379d",
   "metadata": {},
   "source": [
    "Why don't we try and see what our fit looks like?"
   ]
  },
  {
   "cell_type": "code",
   "execution_count": 12,
   "id": "cd129452-3d45-4765-9887-0dc5087c15c4",
   "metadata": {},
   "outputs": [
    {
     "data": {
      "image/png": "[encoded data removed]",
      "text/plain": [
       "<Figure size 432x288 with 1 Axes>"
      ]
     },
     "metadata": {
      "needs_background": "light"
     },
     "output_type": "display_data"
    }
   ],
   "source": [
    "# Import Matplotlib\n",
    "import matplotlib.pyplot as plt\n",
    "\n",
    "# Plot fit data\n",
    "plt.errorbar(\n",
    "    data['x'], \n",
    "    gvar.mean(data['y']), \n",
    "    gvar.sdev(data['y']), \n",
    "    color = 'k', markerfacecolor = 'none',\n",
    "    markeredgecolor = 'k',\n",
    "    capsize = 6., fmt = 'o',\n",
    "    label = 'data'\n",
    ")\n",
    "\n",
    "# Get result of fit function\n",
    "x = np.linspace(data['x'][0], data['x'][-1], 100)\n",
    "y = fit_fcn(x, fit_parameters)\n",
    "\n",
    "# Plot error of fit function from fit as a colored band\n",
    "plt.fill_between(\n",
    "    x,\n",
    "    gvar.mean(y) - gvar.sdev(y),\n",
    "    gvar.mean(y) + gvar.sdev(y),\n",
    "    color = 'maroon', alpha = 0.5,\n",
    "    label = 'RBFN'\n",
    ")\n",
    "\n",
    "# x/y label\n",
    "plt.xlabel('x', fontsize = 20.)\n",
    "plt.ylabel('$a\\\\sin(bx)$', fontsize = 20.)\n",
    "\n",
    "# Show legend\n",
    "plt.legend()\n",
    "\n",
    "# Grid\n",
    "plt.grid('on')"
   ]
  },
  {
   "cell_type": "code",
   "execution_count": null,
   "id": "45ad27a9-807c-45b5-8a9e-f1b3c34a0378",
   "metadata": {},
   "outputs": [],
   "source": []
  }
 ],
 "metadata": {
  "kernelspec": {
   "display_name": "Python 3 (ipykernel)",
   "language": "python",
   "name": "python3"
  },
  "language_info": {
   "codemirror_mode": {
    "name": "ipython",
    "version": 3
   },
   "file_extension": ".py",
   "mimetype": "text/x-python",
   "name": "python",
   "nbconvert_exporter": "python",
   "pygments_lexer": "ipython3",
   "version": "3.10.12"
  }
 },
 "nbformat": 4,
 "nbformat_minor": 5
}
