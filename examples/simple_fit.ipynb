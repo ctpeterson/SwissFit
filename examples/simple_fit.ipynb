{
 "cells": [
  {
   "cell_type": "markdown",
   "id": "fe64a324-b746-4d66-a5ba-1f9579b1697c",
   "metadata": {},
   "source": [
    "Let's get familiar with SwissFit by fitting a simple sine function. The full example code can be found under `examples/simple_fit.py`. Choose the sine function to be\n",
    "$$f(x) = a\\sin(bx),$$\n",
    "with $a=2.0$ and $b=0.5$. First, let's import everything that we'll need."
   ]
  },
  {
   "cell_type": "code",
   "execution_count": 1,
   "id": "7b9055d2-7f5e-4fe3-965b-6cf87121d3c7",
   "metadata": {},
   "outputs": [],
   "source": [
    "\"\"\" SwissFit imports \"\"\"\n",
    "from swissfit import fit # SwissFit fitter\n",
    "from swissfit.optimizers import scipy_least_squares # SciPy's trust region reflective\n",
    "\n",
    "\"\"\" Other imports \"\"\"\n",
    "import gvar as gvar # Peter Lepage's GVar library\n",
    "import numpy as np # NumPy"
   ]
  },
  {
   "cell_type": "markdown",
   "id": "885aa533-43d2-4e22-ba83-8afc307700d3",
   "metadata": {},
   "source": [
    "To extract the parameters of the sine function from data, we need to define a fit function; let's do so:"
   ]
  },
  {
   "cell_type": "code",
   "execution_count": 2,
   "id": "f69d2977-b613-44e5-88b8-af1174742fef",
   "metadata": {},
   "outputs": [],
   "source": [
    "def sin(x, p):\n",
    "    return p['c'][0] * gvar.sin(p['c'][-1] * x)"
   ]
  },
  {
   "cell_type": "markdown",
   "id": "dcfb7ebf-9755-410e-93de-3ca7bfbd7af4",
   "metadata": {},
   "source": [
    "SwissFit operates around Python dictionaries. Therefore, you'll see that the fit parameters are encoded by a Python dictionary in our fit function. Now we need data. Let's create a function that generates an artificial dataset for us to fit to."
   ]
  },
  {
   "cell_type": "code",
   "execution_count": 3,
   "id": "e2a863bd-7d20-450b-a55d-cc3cbbf17ab0",
   "metadata": {},
   "outputs": [],
   "source": [
    "def create_dataset(a, b, error):\n",
    "    # Actual parameters of the sine function\n",
    "    real_fit_parameters = {'c': [a, b]}\n",
    "\n",
    "    # Real dataset\n",
    "    np.random.seed(0) # Seed random number generator\n",
    "    data = {} # Dictionary to hold data\n",
    "\n",
    "    # Input data\n",
    "    data['x'] = np.linspace(0., 2. * np.pi / b, 20)\n",
    "\n",
    "    # Output data\n",
    "    data['y'] = [\n",
    "        gvar.gvar(\n",
    "            np.random.normal(sin(xx, real_fit_parameters), error), # Random mean\n",
    "            error # Error on mean\n",
    "        )\n",
    "        for xx in data['x']\n",
    "    ]\n",
    "\n",
    "    # Return dataset\n",
    "    return data"
   ]
  },
  {
   "cell_type": "markdown",
   "id": "2e14fe85-4b26-44ef-9312-2b74295517e5",
   "metadata": {},
   "source": [
    "This function takes in the values for $a$, $b$ and the error that we want our artificial dataset to possess. It returns a dictionary with inputs `data['x']` in $[0,2\\pi/b]$ and outputs `data['y']` that are uncorrelated [GVar](https://github.com/gplepage/gvar) variables. Note that SwissFit is fully capable of handling correlated [GVar](https://github.com/gplepage/gvar) variables. This dictionary of inputs is what we will feed into SwissFit. Before we create our SwissFit object, let's generate our artificial dataset and define our priors."
   ]
  },
  {
   "cell_type": "code",
   "execution_count": 4,
   "id": "b1d1c645-09e2-45a4-b6ad-7ad3d53b595a",
   "metadata": {},
   "outputs": [],
   "source": [
    "# Artificial dataset\n",
    "data = create_dataset(2.0, 0.5, 0.1)\n",
    "    \n",
    "# Create priors\n",
    "prior = {'c': [gvar.gvar('1.5(1.5)'), gvar.gvar('0.75(0.75)')]}"
   ]
  },
  {
   "cell_type": "markdown",
   "id": "dfa1e0b5-4231-4228-ab97-83ecc6c448b2",
   "metadata": {},
   "source": [
    "Again, SwissFit operates around Python dictionaries. Therefore, you see that both our dataset and priors are defined as Python dictionaries. We're now ready to create our SwissFit object."
   ]
  },
  {
   "cell_type": "code",
   "execution_count": 5,
   "id": "bc2e8c44-04d6-4966-b3c2-55becf4fd764",
   "metadata": {},
   "outputs": [],
   "source": [
    "fitter = fit.SwissFit(\n",
    "    data = data,\n",
    "    prior = prior,\n",
    "    fit_fcn = sin,\n",
    ")"
   ]
  },
  {
   "cell_type": "markdown",
   "id": "4d22c154-618b-423e-a9a3-759ef6822732",
   "metadata": {},
   "source": [
    "To fit to data, we also need to create an optimizer object. We do so by passing the SwissFit object through the optimizer object's constructor."
   ]
  },
  {
   "cell_type": "code",
   "execution_count": 6,
   "id": "5c1f2930-cb48-47db-ab02-d24f2849ebe7",
   "metadata": {},
   "outputs": [],
   "source": [
    "optimizer = scipy_least_squares.SciPyLeastSquares(fitter = fitter)"
   ]
  },
  {
   "cell_type": "markdown",
   "id": "0cde98dc-8be3-4b51-8dcf-4518dbc5ccc1",
   "metadata": {},
   "source": [
    "Now we are ready to fit. It is as simple as passing the SwissFit optimizer object through the call method of the SwissFit object"
   ]
  },
  {
   "cell_type": "code",
   "execution_count": 7,
   "id": "c8d2616a-d3f9-404f-b6cb-8535743b8d01",
   "metadata": {},
   "outputs": [],
   "source": [
    "fitter(optimizer)"
   ]
  },
  {
   "cell_type": "markdown",
   "id": "2205f139-c074-458f-b46c-cf8317a25453",
   "metadata": {},
   "source": [
    "Now that we have done our fit, we can print the output and save our (correlated) fit parameters."
   ]
  },
  {
   "cell_type": "code",
   "execution_count": 8,
   "id": "e0b51053-e676-4a02-a37b-c5494037c0c6",
   "metadata": {},
   "outputs": [
    {
     "name": "stdout",
     "output_type": "stream",
     "text": [
      "\n",
      "SwissFit: 🧀\n",
      "   chi2/dof [dof] = 1.04 [20]   Q = 0.41   (Bayes) \n",
      "   chi2/dof [dof] = 1.15 [18]   Q = 0.3   (freq.) \n",
      "   AIC [k] = 24.63 [2]   logML = 7.511*\n",
      "\n",
      "Parameters*:\n",
      "     c\n",
      "             1                  2.007(33)   [1.5(1.5)]\n",
      "             2                 0.4990(21)   [0.75(75)]\n",
      "\n",
      "Estimator:\n",
      "   SwissFit optimizer object\n",
      "*Laplace approximation\n",
      "\n"
     ]
    }
   ],
   "source": [
    "print(fitter)\n",
    "fit_parameters = fitter.p"
   ]
  },
  {
   "cell_type": "markdown",
   "id": "68b35905-cc13-4df1-970b-278c231ea362",
   "metadata": {},
   "source": [
    "Because the output of `fitter.p` are correlated [GVar](https://github.com/gplepage/gvar) variables, we can pass these parameters through any function that we want and get an output with Gaussian errors fully propagated through. For example, we could calculate `f(0.5)` and `f(1.0)`, along with the their covariance"
   ]
  },
  {
   "cell_type": "code",
   "execution_count": 9,
   "id": "0c848089-92d2-4914-a2da-056e894afdc8",
   "metadata": {},
   "outputs": [
    {
     "name": "stdout",
     "output_type": "stream",
     "text": [
      "f(0.5) f(1.0): 0.4955(85) 0.960(16)\n",
      "covariance of f(0.5) & f(1.0):\n",
      " [[7.29612481e-05 1.40652271e-04]\n",
      " [1.40652271e-04 2.71200285e-04]]\n"
     ]
    }
   ],
   "source": [
    "# Calculate f(0.5, f(1.0)\n",
    "fa = sin(0.5, fit_parameters)\n",
    "fb = sin(1.0, fit_parameters)\n",
    "\n",
    "# Print f(0.5) & f(1.0)\n",
    "print('f(0.5) f(1.0):', fa, fb)\n",
    "    \n",
    "# Print covariance matrix of (fa, fb)\n",
    "print('covariance of f(0.5) & f(1.0):\\n', gvar.evalcov([fa, fb]))"
   ]
  },
  {
   "cell_type": "markdown",
   "id": "5c8b792e-195c-46b1-ae5a-1406d3ee2e63",
   "metadata": {},
   "source": [
    "We could do the same thing for any other derived quantity. That's the power of automatic error propagation by automatic differentiation!\n",
    "\n",
    "Okay, that's all fine an dandy, but how to we visualize the result of our fit? This is no longer a exercise in using `SwissFit` - we now simply manipulate the [GVar](https://github.com/gplepage/gvar) variables that we get from our fit."
   ]
  },
  {
   "cell_type": "code",
   "execution_count": 28,
   "id": "1d9b0ea9-664a-4e22-b25e-1266166cee7c",
   "metadata": {},
   "outputs": [
    {
     "data": {
      "image/png": "[encoded data removed]",
      "text/plain": [
       "<Figure size 432x288 with 1 Axes>"
      ]
     },
     "metadata": {
      "needs_background": "light"
     },
     "output_type": "display_data"
    }
   ],
   "source": [
    "# Import Matplotlib\n",
    "import matplotlib.pyplot as plt\n",
    "\n",
    "# Plot fit data\n",
    "plt.errorbar(\n",
    "    data['x'], \n",
    "    gvar.mean(data['y']), \n",
    "    gvar.sdev(data['y']), \n",
    "    color = 'k', markerfacecolor = 'none',\n",
    "    markeredgecolor = 'k',\n",
    "    capsize = 6., fmt = 'o'\n",
    ")\n",
    "\n",
    "# Get result of fit function\n",
    "x = np.linspace(data['x'][0], data['x'][-1], 100)\n",
    "y = sin(x, fit_parameters)\n",
    "\n",
    "# Plot error of fit function from fit as a colored band\n",
    "plt.fill_between(\n",
    "    x,\n",
    "    gvar.mean(y) - gvar.sdev(y),\n",
    "    gvar.mean(y) + gvar.sdev(y),\n",
    "    color = 'maroon', alpha = 0.5\n",
    ")\n",
    "\n",
    "# x/y label\n",
    "plt.xlabel('x', fontsize = 20.)\n",
    "plt.ylabel('$a\\\\sin(bx)$', fontsize = 20.)\n",
    "\n",
    "# Show fit parameters\n",
    "plt.text(\n",
    "    7.25, 0.75,\n",
    "    '$a=' + str(fit_parameters['c'][0]) + '$, \\n $b=' + str(fit_parameters['c'][-1]) + '$',\n",
    "    fontsize = 15.\n",
    ")\n",
    "\n",
    "# Grid\n",
    "plt.grid('on')"
   ]
  },
  {
   "cell_type": "code",
   "execution_count": null,
   "id": "2692e7e3-bf74-45c0-b06b-23e8ae009c87",
   "metadata": {},
   "outputs": [],
   "source": []
  }
 ],
 "metadata": {
  "kernelspec": {
   "display_name": "Python 3 (ipykernel)",
   "language": "python",
   "name": "python3"
  },
  "language_info": {
   "codemirror_mode": {
    "name": "ipython",
    "version": 3
   },
   "file_extension": ".py",
   "mimetype": "text/x-python",
   "name": "python",
   "nbconvert_exporter": "python",
   "pygments_lexer": "ipython3",
   "version": "3.10.12"
  }
 },
 "nbformat": 4,
 "nbformat_minor": 5
}
