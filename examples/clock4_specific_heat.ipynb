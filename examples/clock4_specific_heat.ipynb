{
 "cells": [
  {
   "cell_type": "markdown",
   "id": "4e1d00a3-d445-478e-8578-657056aa09fd",
   "metadata": {},
   "source": [
    "# Using a radial basis function network to predict $K_{\\mathrm{c}}$ and $\\nu$ for the 4-state clock model\n",
    "\n",
    "In the paper, we showed the result of fitting a radial basis function network to\n",
    "\n",
    "$$\\mathcal{E}(K,N_{\\mathrm{s}})=\\langle E(K,N_{\\mathrm{s}}) \\rangle$$\n",
    "\n",
    "for the 4-state clock model at fixed $N_{\\mathrm{s}}=48,64,96,128,196,256$. In this notebook, we're going to use that fit to predict the pseudocritical temperature $K_{\\mathrm{c}}(N_{\\mathrm{s}})$ from the heat capacity\n",
    "$$C_{V}(K,N_{\\mathrm{s}})=-K^2\\frac{\\mathrm{d}\\mathcal{E}(K,N_{\\mathrm{s}})}{\\mathrm{d} K}.$$\n",
    "From $K_{\\mathrm{c}}(N_{\\mathrm{s}})$ we will extract $K_{\\mathrm{c}}$ and $\\nu$ by extrapolating $K_{\\mathrm{c}}(N_{\\mathrm{s}})$ to $1/N_{\\mathrm{s}} \\rightarrow 0$ using\n",
    "\n",
    "$$K_{\\mathrm{c}}(N_{\\mathrm{s}})=K_{\\mathrm{c}}+\\kappa N_{\\mathrm{s}}^{-1/\\nu}.$$\n",
    "\n",
    "First, let's load up some modules."
   ]
  },
  {
   "cell_type": "code",
   "execution_count": 1,
   "id": "4cddae46-cee0-4d7c-a753-1afbefafca9b",
   "metadata": {},
   "outputs": [],
   "source": [
    "\"\"\" External modules \"\"\"\n",
    "import gvar as gv # Peter Lepage's GVar module\n",
    "import numpy as np # NumPy for number crunching\n",
    "\n",
    "\"\"\" Local modules \"\"\"\n",
    "import example_tools # For getting example data\n",
    "\n",
    "\"\"\" SwissFit modules \"\"\"\n",
    "from swissfit import fit # SwissFit fitter module\n",
    "from swissfit.machine_learning import radial_basis # Module for radial basis function network"
   ]
  },
  {
   "cell_type": "markdown",
   "id": "7d98258a-cb62-481b-9caf-052eb4cf85f8",
   "metadata": {},
   "source": [
    "Now let's set up the radial basis function network."
   ]
  },
  {
   "cell_type": "code",
   "execution_count": 2,
   "id": "ac19db94-ddb3-492d-8ebc-d368e81fb817",
   "metadata": {},
   "outputs": [],
   "source": [
    "# Define network topology\n",
    "network_topology = {\n",
    "    'lyr1': { # Hidden layer\n",
    "        'in': 1, 'out': 4, # Dimension of input & output\n",
    "        'activation': 'exp', # Exponential activation\n",
    "    },\n",
    "    'lyr2': { # Output layer\n",
    "        'in': 4, 'out': 1,\n",
    "        'activation': 'linear' # Linear activation\n",
    "    }\n",
    "}\n",
    "\n",
    "# Create neural network\n",
    "neural_network = radial_basis.RadialBasisNeuralNetwork(network_topology)"
   ]
  },
  {
   "cell_type": "markdown",
   "id": "527652b4-731c-4b96-8439-7df02d0d0a39",
   "metadata": {},
   "source": [
    "Then grab the data"
   ]
  },
  {
   "cell_type": "code",
   "execution_count": 3,
   "id": "746cc96f-b468-4507-acb1-2f8620c11d94",
   "metadata": {},
   "outputs": [],
   "source": [
    "# Grab data\n",
    "data = example_tools.clock4_interp(['48', '64', '96', '128', '196', '256'])"
   ]
  },
  {
   "cell_type": "markdown",
   "id": "6c41cdc8-f4bc-4cd5-b66f-8d78b6ea4169",
   "metadata": {},
   "source": [
    "Now let's calculate the the heat capacity and extract from it $K_{\\mathrm{c}}(N_{\\mathrm{s}})$. While we're at it, we'll go ahead and plot the heat capacity as well."
   ]
  },
  {
   "cell_type": "code",
   "execution_count": null,
   "id": "c2bd85f2-6247-4f88-bb00-ae811ce6f522",
   "metadata": {},
   "outputs": [],
   "source": [
    "# Import matplotlib\n",
    "import matplotlib.pyplot as plt\n",
    "plt.rcParams['figure.figsize'] = [20, 10]\n",
    "plt.close()\n",
    "\n",
    "# Set figure information up\n",
    "colors = {'48': 'magenta', '64': 'red', '96': 'green', '128': 'blue', '256': 'orange'}\n",
    "\n",
    "# Plot each volume\n",
    "for vol in data.keys():\n",
    "    "
   ]
  }
 ],
 "metadata": {
  "kernelspec": {
   "display_name": "Python 3 (ipykernel)",
   "language": "python",
   "name": "python3"
  },
  "language_info": {
   "codemirror_mode": {
    "name": "ipython",
    "version": 3
   },
   "file_extension": ".py",
   "mimetype": "text/x-python",
   "name": "python",
   "nbconvert_exporter": "python",
   "pygments_lexer": "ipython3",
   "version": "3.10.12"
  }
 },
 "nbformat": 4,
 "nbformat_minor": 5
}
